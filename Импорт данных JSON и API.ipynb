{
 "cells": [
  {
   "cell_type": "code",
   "execution_count": 27,
   "metadata": {},
   "outputs": [
    {
     "name": "stdout",
     "output_type": "stream",
     "text": [
      "63.8734\n"
     ]
    }
   ],
   "source": [
    "import requests\n",
    "request = requests.get(\"https://www.cbr-xml-daily.ru/daily_json.js\")\n",
    "data = request.text\n",
    "import pandas as pd\n",
    "import json\n",
    "data = pd.DataFrame(json.loads(data)[\"Valute\"])\n",
    "print (data[\"USD\"][\"Value\"]/data[\"USD\"][\"Nominal\"])\n"
   ]
  }
 ],
 "metadata": {
  "kernelspec": {
   "display_name": "Python 3",
   "language": "python",
   "name": "python3"
  },
  "language_info": {
   "codemirror_mode": {
    "name": "ipython",
    "version": 3
   },
   "file_extension": ".py",
   "mimetype": "text/x-python",
   "name": "python",
   "nbconvert_exporter": "python",
   "pygments_lexer": "ipython3",
   "version": "3.7.5"
  }
 },
 "nbformat": 4,
 "nbformat_minor": 2
}

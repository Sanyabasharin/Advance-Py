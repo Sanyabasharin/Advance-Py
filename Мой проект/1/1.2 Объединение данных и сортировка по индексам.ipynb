{
 "cells": [
  {
   "cell_type": "code",
   "execution_count": null,
   "metadata": {},
   "outputs": [],
   "source": [
    "'''123'''\n",
    "import pandas as pd\n",
    "data1 = pd.read_csv(\"d:\\GitHub\\Advance-Py\\Замеры_VDO.csv\", na_values=\"NA\", delimiter=\";\")\n",
    "#data1 = data1[data1[\"Дата\"] != \"\"]\n",
    "#print(data1.head)\n",
    "print(\"Кол-во стр с пустыми Датами =\", data1['Дата'].isnull().sum())\n",
    "#data1 = data1[~data1['Дата'].isnull()] # отбрасываем строки  с пустыми датами (моем датасет)\n",
    "data1 = data1[data1['Дата'].notna()] # отбрасываем строки  с пустыми датами (моем датасет)\n",
    "#data1 = data1.dropna(subset=['Дата'], axis = 0, inplace=True) - не раблтает\n",
    "#print(\"Кол-во стр с пустыми Датами =\", data1['Дата'].isnull().sum())\n",
    "print(data1.head)\n",
    "data1 = data1.set_index([\"Ст_№_ГПА\"])\n",
    "#print(data1.head)\n",
    "data2 = pd.read_csv(\"d:\\GitHub\\Advance-Py\\Филиал.csv\", na_values=\"NA\", delimiter=\";\")\n",
    "data2 = data2.set_index([\"Ст_№_ГПА\"])\n",
    "#print(data2.head)\n",
    "data = pd.merge(data1, data2, left_index=True, right_index=True)  # объединяем сет замеры и сет филиалы по столбцу \"Ст_№_ГПА\"\n",
    "print(data.head(5))\n",
    "data = data.reset_index()\n",
    "data = data.set_index(\"Цех\")\n",
    "data = data.sort_index()\n",
    "\n",
    "# print (data[\"Ст_№_ГПА\"][0:1])\n",
    "#data.to_csv('merge Замеры-Филиал.csv')\n",
    "#data.to_csv('merge Замеры-Филиал без индекса.csv', index=False)\n",
    "# data = data.drop(columns=data.iloc[:, 2:len(data.columns)])\n",
    "# print(data.head)\n",
    "'''df[[\"A\", \"B\"]].max(axis=1)\n",
    "def max_ЦБН ( )\n",
    "df['max_ЦБН'] = df.sort('')\n",
    "df.loc[(df['Items'] != 'Car') &amp; (df['Amount'] <= 3)]\n",
    "df.loc[lambda df: df['ГТУ1_В'] >= 170, \"name\"]'''\n",
    "\n"
   ]
  },
  {
   "cell_type": "code",
   "execution_count": null,
   "metadata": {},
   "outputs": [],
   "source": [
    "#print(df.head)\n",
    "#df= df[df['ГТУ1_В']==df['ГТУ1_В'].max()]\n",
    "#print(df.head)\n",
    "print(df[df['Цех'] == 'Цех_1'])\n",
    "\n",
    "#print(df[(df['Цех'] == 'Цех_1') &\n",
    "#        (df['ГТУ1_В']==df['ГТУ1_В'].max())])\n",
    "\n",
    "\n",
    "df_ceh = df.loc[(df['Цех'] == 'Цех_1')] # фильтруем по цеху\n",
    "#df_ceh = df_ceh.loc[(df_ceh['ГТУ1_В']==df_ceh['ГТУ1_В'].max())]\n",
    "#df_ceh = df_ceh.loc[df_ceh['ГТУ1_В'].max()]\n",
    "#print(df_ceh.head)\n",
    "#print(df.loc[lambda df: df['ГТУ1_В'].max(), \"ГТУ1_В\"])\n",
    "\n",
    "# print(df.loc[(df['Цех'] == 'Цех_1') &amp;([lambda df: df['ГТУ1_В'].max(), \"Ст_№_ГПА\"])])\n",
    "#print(df.head)\n",
    "'''Для этого используем полученное значение с максимальным количеством сахара (data['sugar'].max()) \n",
    "и выведем строку, для которой выполняется условие data['sugar']==data['sugar'].max():'"
   ]
  },
  {
   "cell_type": "code",
   "execution_count": null,
   "metadata": {},
   "outputs": [],
   "source": [
    "import pandas as pd\n",
    "# df = pd.read_csv(\"d:\\GitHub\\Advance-Py\\merge Замеры-Филиал без индекса.csv\", na_values=\"NA\", delimiter=\";\")\n",
    "df = data\n",
    "df = data.reset_index()\n",
    "print(df.iloc[[1, 2], [3,4,5,6,7,8,9,10,11]])\n",
    "print(df.iloc[[1, 2], [3,4,5,6,7,8,9,10,11]].max(1))\n",
    "#df['Max_V_ГТУ'] = df[3,4,5,6,7,8,9,10,11].max(1)\n",
    "print(df.loc[lambda df: df['ГТУ1_В'] >= 1, \"name\"])\n",
    "print(df.iloc[[lambda df: df.iloc[:], [3,4,5,6,7,8,9,10,11]].max(1), 'Max_V_ГТУ'])\n"
   ]
  },
  {
   "cell_type": "code",
   "execution_count": null,
   "metadata": {},
   "outputs": [],
   "source": [
    "'''for row in df.index:\n",
    "    print(f'Max element of row {row} is:', max(df.iloc[row]))'''"
   ]
  },
  {
   "cell_type": "code",
   "execution_count": null,
   "metadata": {},
   "outputs": [],
   "source": [
    "#print(df.head)\n",
    "#df= df[df['ГТУ1_В']==df['ГТУ1_В'].max()]\n",
    "#print(df.head)\n",
    "print(df[df['Цех'] == 'Цех_1'])\n",
    "\n",
    "#print(df[(df['Цех'] == 'Цех_1') &\n",
    "#        (df['ГТУ1_В']==df['ГТУ1_В'].max())])\n",
    "\n",
    "\n",
    "df_ceh = df.loc[(df['Цех'] == 'Цех_1')] # фильтруем по цеху\n",
    "#df_ceh = df_ceh.loc[(df_ceh['ГТУ1_В']==df_ceh['ГТУ1_В'].max())]\n",
    "#df_ceh = df_ceh.loc[df_ceh['ГТУ1_В'].max()]\n",
    "#print(df_ceh.head)\n",
    "#print(df.loc[lambda df: df['ГТУ1_В'].max(), \"ГТУ1_В\"])\n",
    "\n",
    "# print(df.loc[(df['Цех'] == 'Цех_1') &amp;([lambda df: df['ГТУ1_В'].max(), \"Ст_№_ГПА\"])])\n",
    "#print(df.head)\n",
    "'''Для этого используем полученное значение с максимальным количеством сахара (data['sugar'].max()) \n",
    "и выведем строку, для которой выполняется условие data['sugar']==data['sugar'].max():'"
   ]
  },
  {
   "cell_type": "code",
   "execution_count": 130,
   "metadata": {},
   "outputs": [
    {
     "name": "stdout",
     "output_type": "stream",
     "text": [
      "   ГТУ1_В  ГТУ1_Г  ГТУ1_О  ГТУ2_В  ГТУ2_Г  ГТУ2_О  ГТУ3_В  ГТУ3_Г  ГТУ3_О\n",
      "1     1.2     1.2     0.8     1.1     1.0     0.7     3.3     2.9     0.6\n",
      "2     1.3     1.2     1.1     1.2     1.1     0.9     3.7     2.8     1.1\n",
      "1    3.3\n",
      "2    3.7\n",
      "dtype: float64\n",
      "       Цех  Ст_№_ГПА                 Дата  ГТУ1_В  ГТУ1_Г  ГТУ1_О  ГТУ2_В  \\\n",
      "0    Цех_1        11  2002-11-10 10:00:00     3.5     1.8     1.1    1.80   \n",
      "1    Цех_1        11  2003-01-15 10:00:00     1.2     1.2     0.8    1.10   \n",
      "2    Цех_1        11  2003-02-26 10:00:00     1.3     1.2     1.1    1.20   \n",
      "3    Цех_1        11  2003-03-19 10:00:00     1.3     1.7     0.8    1.70   \n",
      "4    Цех_1        11  2003-09-08 10:00:00     1.0     1.2     1.0    1.00   \n",
      "..     ...       ...                  ...     ...     ...     ...     ...   \n",
      "806  Цех_1        15  2021-10-29 09:00:00     3.4     2.2     1.8    1.90   \n",
      "807  Цех_1        15  2021-11-05 09:00:00     2.8     2.9     4.5    1.47   \n",
      "808  Цех_1        15  2021-12-15 09:00:00     2.5     2.3     4.2    2.00   \n",
      "809  Цех_1        15  2022-01-27 09:00:00     2.2     2.2     2.9    1.60   \n",
      "810  Цех_1        15  2022-02-07 09:00:00     2.5     1.3     1.8    1.40   \n",
      "\n",
      "     ГТУ2_Г  ГТУ2_О  ГТУ3_В  ...  Оценка_ГПА         Прибор      ЧД_Гц  \\\n",
      "0       1.3     1.1     3.0  ...      хорошо            NaN        NaN   \n",
      "1       1.0     0.7     3.3  ...      хорошо            NaN        NaN   \n",
      "2       1.1     0.9     3.7  ...      хорошо       №764/986  10 - 1000   \n",
      "3       1.7     1.1     4.3  ...      хорошо       №764/986  10 - 1000   \n",
      "4       1.2     0.8     3.6  ...   допустимо      №763/1023  10 - 1000   \n",
      "..      ...     ...     ...  ...         ...            ...        ...   \n",
      "806     1.0     1.5     2.4  ...      хорошо  SKF-GX,№71014  10 - 1000   \n",
      "807     1.3     2.0     4.7  ...   допустимо  SKF-GX,№71014  10 - 1000   \n",
      "808     1.8     2.2     4.4  ...      хорошо  SKF-GX,№71014  10 - 1000   \n",
      "809     1.0     2.0     4.2  ...      хорошо  SKF-GX,№71014  10 - 1000   \n",
      "810     0.8     0.9     3.8  ...      хорошо  SKF-GX,№71014  10 - 1000   \n",
      "\n",
      "     Наработка_ГТУ_ч  Примечание              Филиал     КС   Тип_ГПА  \\\n",
      "0                NaN         NaN  Приводинское ЛПУМГ  КС-14  ГТ-750-6   \n",
      "1                NaN         NaN  Приводинское ЛПУМГ  КС-14  ГТ-750-6   \n",
      "2                NaN         NaN  Приводинское ЛПУМГ  КС-14  ГТ-750-6   \n",
      "3                NaN         NaN  Приводинское ЛПУМГ  КС-14  ГТ-750-6   \n",
      "4                NaN         NaN  Приводинское ЛПУМГ  КС-14  ГТ-750-6   \n",
      "..               ...         ...                 ...    ...       ...   \n",
      "806              NaN           -  Приводинское ЛПУМГ  КС-14  ГТ-750-6   \n",
      "807              NaN           -  Приводинское ЛПУМГ  КС-14  ГТ-750-6   \n",
      "808              NaN           -  Приводинское ЛПУМГ  КС-14  ГТ-750-6   \n",
      "809              NaN           -  Приводинское ЛПУМГ  КС-14  ГТ-750-6   \n",
      "810              NaN           -  Приводинское ЛПУМГ  КС-14  ГТ-750-6   \n",
      "\n",
      "         Тип_ГТУ     Тип_ЦБК  \n",
      "0    ГТ 750-6 А2  Н-370-17-1  \n",
      "1    ГТ 750-6 А2  Н-370-17-1  \n",
      "2    ГТ 750-6 А2  Н-370-17-1  \n",
      "3    ГТ 750-6 А2  Н-370-17-1  \n",
      "4    ГТ 750-6 А2  Н-370-17-1  \n",
      "..           ...         ...  \n",
      "806  ГТ 750-6 А2  Н-370-17-1  \n",
      "807  ГТ 750-6 А2  Н-370-17-1  \n",
      "808  ГТ 750-6 А2  Н-370-17-1  \n",
      "809  ГТ 750-6 А2  Н-370-17-1  \n",
      "810  ГТ 750-6 А2  Н-370-17-1  \n",
      "\n",
      "[811 rows x 49 columns]\n"
     ]
    },
    {
     "data": {
      "text/plain": [
       "\"Для этого используем полученное значение с максимальным количеством сахара (data['sugar'].max()) \\nи выведем строку, для которой выполняется условие data['sugar']==data['sugar'].max():\""
      ]
     },
     "execution_count": 130,
     "metadata": {},
     "output_type": "execute_result"
    }
   ],
   "source": []
  }
 ],
 "metadata": {
  "interpreter": {
   "hash": "acc0dcb458adea865fa90ce4f43fb3956ae49c60606d0d549bfdeff9ec2bcd00"
  },
  "kernelspec": {
   "display_name": "Python 3.10.2 64-bit (system)",
   "language": "python",
   "name": "python3"
  },
  "language_info": {
   "codemirror_mode": {
    "name": "ipython",
    "version": 3
   },
   "file_extension": ".py",
   "mimetype": "text/x-python",
   "name": "python",
   "nbconvert_exporter": "python",
   "pygments_lexer": "ipython3",
   "version": "3.10.2"
  }
 },
 "nbformat": 4,
 "nbformat_minor": 2
}

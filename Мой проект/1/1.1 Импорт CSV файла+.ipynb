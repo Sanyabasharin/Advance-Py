{
 "cells": [
  {
   "cell_type": "code",
   "execution_count": 73,
   "metadata": {},
   "outputs": [
    {
     "name": "stdout",
     "output_type": "stream",
     "text": [
      "     КЦ  Дата\n",
      "0     3     1\n",
      "1     3     1\n",
      "2     3     1\n",
      "3     3     1\n",
      "4     3     1\n",
      "...  ..   ...\n",
      "1110  4     6\n",
      "1111  5     4\n",
      "1112  6     5\n",
      "1113  7     6\n",
      "1114  5     3\n",
      "\n",
      "[1115 rows x 2 columns]\n",
      "        Дата\n",
      "КЦ          \n",
      "1   4.202073\n",
      "2   4.519048\n",
      "3   7.648069\n",
      "4   7.590909\n",
      "5   4.805031\n",
      "6   5.010638\n",
      "7   4.166667\n",
      "Ср.знач замеров по КЦ за месяц =  5.0\n",
      "Ср.знач замеров по КЦ за месяц =  4.0\n"
     ]
    },
    {
     "data": {
      "text/plain": [
       "'\\n# data_group.index.name = \\'КЦ\\'\\ndata_group_date = data.groupby(\"Дата\").count()\\ndata_group_KC = data.groupby(\"КЦ\").count()\\ndata_group = data.groupby(\\'КЦ\\').groups\\n# data_group.first()\\n\\nprint(data_group_date.head)\\nprint(data_group_KC.head)\\nprint(data_group)\\n# data_grp = data.groupby(\\'marital\\').groups\\n#data_grp = data.groupby(\\'marital\\')\\n#df = data_grp.get_group(\\'divorced\\')\\ndata_group = data.groupby(\\'КЦ\\').groups\\ndf = data_group_date.get_group(\\'КЦ\\')\\nprint(data)\\n'"
      ]
     },
     "execution_count": 73,
     "metadata": {},
     "output_type": "execute_result"
    }
   ],
   "source": [
    "'''Задание: импорт данных\n",
    "Возьмите данные по замерам вибрации в Филиале за 2002-2022 годы:\n",
    "d:\\GitHub\\Advance-Py\\Замеры_VDO.csv\n",
    "Получите из них фрейм данных (таблицу значений). По этому фрейму вычислите среднее значение и медиану\n",
    "замеров в месяц  по цеху в Филиале, округлив до целого.\n",
    "Примечание: найдите среднее значение замеров, без учета года и цеха\n",
    "Результат, например: ср знач\t= 5,  медиана  =\t4\n",
    "\n",
    "'''\n",
    "import pandas as pd\n",
    "#data = pd.read_csv(\"d:\\GitHub\\Advance-Py\\Замеры_VDO.csv\", na_values=\"NA\", skiprows=1, delimiter=\";\")\n",
    "data = pd.read_csv(\"d:\\GitHub\\Advance-Py\\Замеры_VDO.csv\", na_values=\"NA\", delimiter=\";\")\n",
    "# student_df = student_df.drop(columns=student_df.iloc[:, 1:3]) \n",
    "data = data.drop(columns=data.iloc[:, 2:len(data.columns)])\n",
    "#print(data.head)\n",
    "\n",
    "col = \"Дата\"\n",
    "data[col] = data[col].str.slice(0,7)\n",
    "col = \"Ст_№_ГПА\"\n",
    "data[col] = data[col].astype(str)\n",
    "data[col] = data[col].str.slice(0,1)\n",
    "data = data.rename (columns= {'Ст_№_ГПА': 'КЦ'}) \n",
    "data['copy КЦ'] = data['КЦ']\n",
    "#print(data.head)\n",
    "\n",
    "data_grp = data\\\n",
    "    .groupby(['Дата','КЦ'], as_index=False)\\\n",
    "    .aggregate({'Дата':'count'})\n",
    "print(data_grp)\n",
    "\n",
    "data_grp2 =data_grp.groupby(\"КЦ\").mean()\n",
    "data_grp3 =data_grp.groupby(\"КЦ\").median()\n",
    "print(data_grp2)\n",
    "print (\"Ср.знач замеров по КЦ за месяц = \", data_grp2[\"Дата\"].mean().round())\n",
    "print (\"Медианное знач замеров по КЦ за месяц = \", data_grp3[\"Дата\"].median().round())\n",
    "\n",
    "'''\n",
    "# data_group.index.name = 'КЦ'\n",
    "data_group_date = data.groupby(\"Дата\").count()\n",
    "data_group_KC = data.groupby(\"КЦ\").count()\n",
    "data_group = data.groupby('КЦ').groups\n",
    "# data_group.first()\n",
    "\n",
    "print(data_group_date.head)\n",
    "print(data_group_KC.head)\n",
    "print(data_group)\n",
    "# data_grp = data.groupby('marital').groups\n",
    "#data_grp = data.groupby('marital')\n",
    "#df = data_grp.get_group('divorced')\n",
    "data_group = data.groupby('КЦ').groups\n",
    "df = data_group_date.get_group('КЦ')\n",
    "print(data)\n",
    "'''"
   ]
  }
 ],
 "metadata": {
  "kernelspec": {
   "display_name": "Python 3",
   "language": "python",
   "name": "python3"
  },
  "language_info": {
   "codemirror_mode": {
    "name": "ipython",
    "version": 3
   },
   "file_extension": ".py",
   "mimetype": "text/x-python",
   "name": "python",
   "nbconvert_exporter": "python",
   "pygments_lexer": "ipython3",
   "version": "3.10.2"
  }
 },
 "nbformat": 4,
 "nbformat_minor": 2
}

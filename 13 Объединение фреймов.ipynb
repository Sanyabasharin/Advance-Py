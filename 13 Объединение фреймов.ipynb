{
 "cells": [
  {
   "cell_type": "code",
   "execution_count": 5,
   "metadata": {},
   "outputs": [
    {
     "data": {
      "image/png": "[encoded data removed]",
      "text/plain": [
       "<Figure size 432x288 with 1 Axes>"
      ]
     },
     "metadata": {
      "needs_background": "light"
     },
     "output_type": "display_data"
    }
   ],
   "source": [
    "# Видео №13\n",
    "%matplotlib inline\n",
    "import pandas as pd\n",
    "import matplotlib.pyplot as plt\n",
    "#data_2017 = pd.read_csv(\"https://video.ittensive.com/python-advanced/internet-2017.csv\", na_values=\"NA\", skiprows=1, decimal=\",\", names=[\"Регион\", \"2017\"], index_col=\"Регион\")\n",
    "data_2017 = pd.read_csv(\"d:\\Обучение (IT)\\Ittensive\\Python Продвинутый\\Ч1 анализ данных-4 материала\\internet-2017.csv\", na_values=\"NA\", decimal=\",\", skiprows=1, names=[\"Регион\", \"2017\"], index_col=\"Регион\")\n",
    "\n",
    "# data_2018 = pd.read_csv(\"https://video.ittensive.com/python-advanced/internet-2018.csv\", na_values=\"NA\", skiprows=1, decimal=\",\", names=[\"Регион\", \"2018\"], index_col=\"Регион\")\n",
    "data_2018 = pd.read_csv(\"d:\\Обучение (IT)\\Ittensive\\Python Продвинутый\\Ч1 анализ данных-4 материала\\internet-2018.csv\", na_values=\"NA\", decimal=\",\", skiprows=1, names=[\"Регион\", \"2018\"], index_col=\"Регион\")\n",
    "data = pd.merge(data_2017, data_2018, left_index=True, right_index=True)\n",
    "data.fillna(0, axis=1, inplace=True)\n",
    "data.mean().plot.line()\n",
    "plt.show()"
   ]
  },
  {
   "cell_type": "code",
   "execution_count": 6,
   "metadata": {},
   "outputs": [
    {
     "name": "stdout",
     "output_type": "stream",
     "text": [
      "                            2017   2018\n",
      "Регион                                 \n",
      "Российская Федерация       14.44  14.44\n",
      "БЕЛГОРОДСКАЯ ОБЛ.           9.83   9.83\n",
      "БРЯНСКАЯ ОБЛ.              12.46  12.46\n",
      "ВЛАДИМИРСКАЯ ОБЛ.          12.38  12.38\n",
      "ВОРОНЕЖСКАЯ  ОБЛ.          16.19  16.19\n",
      "...                          ...    ...\n",
      "САХАЛИНСКАЯ ОБЛ.           13.01  13.01\n",
      "ЕВРЕЙСКАЯ А.О.             13.29  13.29\n",
      "ЧУКОТСКИЙ А.О.              9.48   9.48\n",
      "Дальневосточный фед.округ  13.03  13.03\n",
      "РЕСПУБЛИКА КРЫМ             0.00   0.00\n",
      "\n",
      "[92 rows x 2 columns]\n"
     ]
    }
   ],
   "source": [
    "print (data)"
   ]
  }
 ],
 "metadata": {
  "kernelspec": {
   "display_name": "Python 3",
   "language": "python",
   "name": "python3"
  },
  "language_info": {
   "codemirror_mode": {
    "name": "ipython",
    "version": 3
   },
   "file_extension": ".py",
   "mimetype": "text/x-python",
   "name": "python",
   "nbconvert_exporter": "python",
   "pygments_lexer": "ipython3",
   "version": "3.10.2"
  }
 },
 "nbformat": 4,
 "nbformat_minor": 2
}

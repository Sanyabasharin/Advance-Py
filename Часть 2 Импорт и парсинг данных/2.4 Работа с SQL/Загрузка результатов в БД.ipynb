{
 "cells": [
  {
   "cell_type": "code",
   "execution_count": 3,
   "metadata": {},
   "outputs": [
    {
     "name": "stdout",
     "output_type": "stream",
     "text": [
      "[(1, '/product/kholodilnik-saratov-452-ksh-120/207534?show-uid=15735075615528997794406001', 'Холодильник Саратов 452 (КШ-120)', 10728, 48.0, 89.6, 60.0, 122, 107), (2, '/product/kholodilnik-saratov-451-ksh-160/207535?show-uid=15735075615528997794406002', 'Холодильник Саратов 451 (КШ 160)', 10990, 48.0, 116.6, 60.0, 165, 150), (3, '/product/kholodilnik-saratov-550-ksh-120-bez-nto/411524?show-uid=15735075615528997794406003', 'Холодильник Саратов 550 (КШ-120 без НТО)', 10545, 48.0, 87.5, 59.0, 122, 0), (4, '/product/kholodilnik-saratov-263-kshd-200-30/819573?show-uid=15735075615528997794406004', 'Холодильник Саратов 263 (КШД-200/30)', 14940, 48.0, 149.0, 60.0, 195, 165), (5, '/product/kholodilnik-saratov-264-kshd-150-30/819572?show-uid=15735075615528997794406005', 'Холодильник Саратов 264 (КШД-150/30)', 14151, 48.0, 123.0, 60.0, 152, 122), (6, '/product/kholodilnik-saratov-467-ksh-210/3763141?show-uid=15735075615528997794406006', 'Холодильник Саратов 467 (КШ-210)', 13868, 48.0, 149.0, 60.0, 210, 185), (7, '/product/kholodilnik-saratov-452-ksh-120-seryi/262992038?show-uid=15735075615528997794406007', 'Холодильник Саратов 452 (КШ-120) серый', 10946, 48.0, 89.6, 60.0, 122, 107), (8, '/product/kholodilnik-saratov-549-ksh-160-bez-nto/411523?show-uid=15735075615528997794406008', 'Холодильник Саратов 549 (КШ-160 без НТО)', 12396, 48.0, 114.5, 59.0, 165, 0), (9, '/product/kholodilnik-saratov-263-seryi/455762053?show-uid=15735075615528997794406009', 'Холодильник Саратов 263 серый', 14776, 48.0, 149.0, 60.0, 195, 165), (10, '/product/kholodilnik-saratov-209-kshd-275-65/7772727?show-uid=15735075615528997794406010', 'Холодильник Саратов 209 (КШД 275/65)', 15987, 60.0, 163.0, 60.6, 275, 210), (11, '/product/kholodilnik-saratov-264-kshd-150-30-seryi/262992035?show-uid=15735075615528997794406011', 'Холодильник Саратов 264 (КШД-150/30) серый', 14369, 48.0, 123.0, 60.0, 152, 122), (12, '/product/kholodilnik-saratov-451-ksh-160-seryi/262991053?show-uid=15735075615528997794406012', 'Холодильник Саратов 451 (КШ-160) серый', 12363, 48.0, 116.6, 60.0, 165, 150)]\n"
     ]
    }
   ],
   "source": [
    "import sqlite3\n",
    "import requests\n",
    "from bs4 import BeautifulSoup\n",
    "\n",
    "def find_number(text):\n",
    "    return int(\"0\" + \"\".join(i for i in text if i.isdigit()))\n",
    "def find_data (link):\n",
    "    r = requests.get(\"https://beru.ru\" + link)\n",
    "    html = BeautifulSoup(r.content)\n",
    "    title = html.find(\"h1\", {\"class\": \"_3TfWusA7bt\"}).get_text()\n",
    "    price = find_number(html.find(\"span\", {\"data-tid\": \"c3eaad93\"}).get_text())\n",
    "    tags = html.find_all(\"span\", {\"class\": \"_112Tad-7AP\"})\n",
    "    width = 0\n",
    "    depth = 0\n",
    "    height = 0\n",
    "    volume = 0\n",
    "    freezer = 0\n",
    "    for tag in tags:\n",
    "        tag = tag.get_text()\n",
    "        if tag.find(\"ШхВхГ\") > -1:\n",
    "            dims = tag.split(\":\")[1].split(\"х\")\n",
    "            width = float(dims[0])\n",
    "            depth = float(dims[1])\n",
    "            height = float(dims[2].split(\" \")[0])\n",
    "        if tag.find(\"общий объем\") > -1:\n",
    "            volume = find_number(tag)\n",
    "        if tag.find(\"объем холодильной камеры\") > -1:\n",
    "            freezer = find_number(tag)\n",
    "    return [link, title, price, width, depth, height, volume, freezer]\n",
    "\n",
    "r = requests.get(\"https://beru.ru/catalog/kholodilniki/79958/list?cvredirect=3&suggest_reqId=83526016473955609954771572320629&text=%D0%A1%D0%B0%D1%80%D0%B0%D1%82%D0%BE%D0%B2\")\n",
    "html = BeautifulSoup(r.content)\n",
    "links = html.find_all(\"a\", {\"class\": \"grid-snippet__react-link\"})\n",
    "data = []\n",
    "for link in links:\n",
    "    if link[\"href\"] and link.get_text().find(\"Саратов\") > -1:\n",
    "        data.append(find_data(link[\"href\"]))\n",
    "conn = sqlite3.connect(\"sqlite/data.db3\")\n",
    "db = conn.cursor()\n",
    "db.execute(\"\"\"CREATE TABLE beru_goods\n",
    "            (id INTEGER PRIMARY KEY AUTOINCREMENT not null,\n",
    "            url text,\n",
    "            title text default '',\n",
    "            price INTEGER default 0,\n",
    "            width FLOAT default 0.0,\n",
    "            depth FLOAT default 0.0,\n",
    "            height FLOAT default 0.0,\n",
    "            volume INTEGER default 0,\n",
    "            freezer INTEGER default 0)\"\"\")\n",
    "conn.commit()\n",
    "db.executemany(\"\"\"INSERT INTO beru_goods (url, title, price, width, depth, height, volume, freezer)\n",
    "           VALUES (?, ?, ?, ?, ?, ?, ?, ?)\"\"\", data)\n",
    "conn.commit()\n",
    "print (db.execute(\"SELECT * FROM beru_goods\").fetchall())\n",
    "db.close()"
   ]
  }
 ],
 "metadata": {
  "kernelspec": {
   "display_name": "Python 3",
   "language": "python",
   "name": "python3"
  },
  "language_info": {
   "codemirror_mode": {
    "name": "ipython",
    "version": 3
   },
   "file_extension": ".py",
   "mimetype": "text/x-python",
   "name": "python",
   "nbconvert_exporter": "python",
   "pygments_lexer": "ipython3",
   "version": "3.7.5"
  }
 },
 "nbformat": 4,
 "nbformat_minor": 2
}

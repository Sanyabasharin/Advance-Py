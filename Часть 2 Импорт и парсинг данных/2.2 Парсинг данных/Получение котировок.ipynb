{
 "cells": [
  {
   "cell_type": "code",
   "execution_count": 8,
   "metadata": {},
   "outputs": [
    {
     "name": "stdout",
     "output_type": "stream",
     "text": [
      "С/%\n",
      "11.0    ИКРУСС-ИНВ\n",
      "Name: Тикер, dtype: object\n"
     ]
    }
   ],
   "source": [
    "import requests\n",
    "import pandas as pd\n",
    "from bs4 import BeautifulSoup\n",
    "r = requests.get(\"https://mfd.ru/marketdata/?id=5&group=16&mode=3&sortHeader=name&sortOrder=1&selectedDate=01.11.2019\")\n",
    "html = BeautifulSoup(r.content)\n",
    "table = html.find('table', {'id':'marketDataList'})\n",
    "rows = []\n",
    "trs = table.find_all('tr')\n",
    "for tr in trs:\n",
    "    tr = [td.get_text(strip=True) for td in tr.find_all('td')]\n",
    "    if len(tr) > 0:\n",
    "        rows.append(tr)\n",
    "data = pd.DataFrame(rows, columns=[\"Тикер\", \"Дата\", \"Сделки\", \"C/рост\", \"С/%\", \"Закрытие\", \"Открытие\", \"min\", \"max\", \"avg\", \"шт\", \"руб\", \"Всего\"])\n",
    "data = data[data[\"Сделки\"] != \"N/A\"]\n",
    "data[\"С/%\"] = data[\"С/%\"].str.replace(\"−\",\"-\").str.replace(\"%\",\"\").astype(float)\n",
    "data = data.set_index(\"С/%\")\n",
    "data = data.sort_index(ascending=False)\n",
    "print (data[\"Тикер\"].head(1))"
   ]
  }
 ],
 "metadata": {
  "kernelspec": {
   "display_name": "Python 3",
   "language": "python",
   "name": "python3"
  },
  "language_info": {
   "codemirror_mode": {
    "name": "ipython",
    "version": 3
   },
   "file_extension": ".py",
   "mimetype": "text/x-python",
   "name": "python",
   "nbconvert_exporter": "python",
   "pygments_lexer": "ipython3",
   "version": "3.7.5"
  }
 },
 "nbformat": 4,
 "nbformat_minor": 2
}

{
 "cells": [
  {
   "cell_type": "code",
   "execution_count": 35,
   "metadata": {},
   "outputs": [
    {
     "name": "stdout",
     "output_type": "stream",
     "text": [
      "links []\n"
     ]
    }
   ],
   "source": [
    "import requests\n",
    "#import time\n",
    "from bs4 import BeautifulSoup\n",
    "headers = {\"User-Agent\": \"ittensive-python-couses/1.0 (+https://www.ittenasive.com)\"}\n",
    "r = requests.get(\"https://video.ittensive.com/data/018-python-advanced/beru.ru/\", headers=headers)\n",
    "#time.sleep(1)\n",
    "html = BeautifulSoup(r.content)\n",
    "#print (html)\n",
    "links = html.find_all(\"a\", {\"class\": \"grid-snippet__react-link\"})\n",
    "print('links', links)\n"
   ]
  },
  {
   "cell_type": "code",
   "execution_count": 34,
   "metadata": {},
   "outputs": [
    {
     "name": "stdout",
     "output_type": "stream",
     "text": [
      "link_263 =  \n",
      "link_452263 =  \n"
     ]
    }
   ],
   "source": [
    "link_263 = ''\n",
    "link_452 = ''\n",
    "for link in links:\n",
    "    if str(link).find(\"Саратов 263\") > -1:\n",
    "        link_263 = link[\"href\"]\n",
    "    if str(link).find(\"Саратов 452\") > -1:\n",
    "        link_452 = link[\"href\"]\n",
    "\n",
    "print('link_263 = ', link_263)\n",
    "print('link_452263 = ', link_452)\n"
   ]
  },
  {
   "cell_type": "code",
   "execution_count": null,
   "metadata": {},
   "outputs": [],
   "source": [
    "def find_volume (link):\n",
    "    r = requests.get(\"https://video.ittensive.com/data/018-python-advanced/beru.ru/\" + link)\n",
    "    html = BeautifulSoup(r.content)\n",
    "    volume = html.find_all(\"span\", {\"class\": \"_112Tad-7AP\"})\n",
    "    return int(''.join(i for i in volume[2].get_text() if i.isdigit()))\n",
    "\n",
    "if link_263 and link_452:\n",
    "    volume_263 = find_volume(link_263)\n",
    "    volume_452 = find_volume(link_452)\n",
    "    diff = max(volume_263, volume_452) - min(volume_263, volume_452)\n",
    "    print (diff)"
   ]
  },
  {
   "cell_type": "code",
   "execution_count": null,
   "metadata": {},
   "outputs": [],
   "source": [
    "volume_263 = find_volume(link_263)\n",
    "volume_452 = find_volume(link_452)\n",
    "diff = max(volume_263, volume_452) - min(volume_263, volume_452)\n",
    "print (diff)\n"
   ]
  }
 ],
 "metadata": {
  "kernelspec": {
   "display_name": "Python 3",
   "language": "python",
   "name": "python3"
  },
  "language_info": {
   "codemirror_mode": {
    "name": "ipython",
    "version": 3
   },
   "file_extension": ".py",
   "mimetype": "text/x-python",
   "name": "python",
   "nbconvert_exporter": "python",
   "pygments_lexer": "ipython3",
   "version": "3.10.2"
  }
 },
 "nbformat": 4,
 "nbformat_minor": 2
}

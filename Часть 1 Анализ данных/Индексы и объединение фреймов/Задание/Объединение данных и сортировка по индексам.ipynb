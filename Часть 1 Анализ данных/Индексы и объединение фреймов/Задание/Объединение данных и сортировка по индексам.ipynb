{
 "cells": [
  {
   "cell_type": "code",
   "execution_count": 7,
   "metadata": {},
   "outputs": [
    {
     "name": "stdout",
     "output_type": "stream",
     "text": [
      "Calls\n",
      "220    13465\n",
      "Name: UnemployedMen, dtype: int64\n"
     ]
    }
   ],
   "source": [
    "import pandas as pd\n",
    "data1 = pd.read_csv(\"https://video.ittensive.com/python-advanced/data-9753-2019-07-25.utf.csv\", delimiter=\";\")\n",
    "data1 = data1.set_index([\"Year\", \"Period\"])\n",
    "data2 = pd.read_csv(\"https://video.ittensive.com/python-advanced/data-5283-2019-10-04.utf.csv\", delimiter=\";\")\n",
    "data2 = data2.set_index([\"AdmArea\", \"Year\", \"Month\"])\n",
    "data2 = data2.loc[\"Центральный административный округ\"]\n",
    "data2.index.names = [\"Year\", \"Period\"]\n",
    "data = pd.merge(data1, data2, left_index=True, right_index=True)\n",
    "data = data.reset_index()\n",
    "data = data.set_index(\"Calls\")\n",
    "data = data.sort_index()\n",
    "print (data[\"UnemployedMen\"][0:1])"
   ]
  }
 ],
 "metadata": {
  "kernelspec": {
   "display_name": "Python 3",
   "language": "python",
   "name": "python3"
  },
  "language_info": {
   "codemirror_mode": {
    "name": "ipython",
    "version": 3
   },
   "file_extension": ".py",
   "mimetype": "text/x-python",
   "name": "python",
   "nbconvert_exporter": "python",
   "pygments_lexer": "ipython3",
   "version": "3.7.5"
  }
 },
 "nbformat": 4,
 "nbformat_minor": 2
}

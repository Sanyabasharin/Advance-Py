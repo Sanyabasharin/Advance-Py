{
 "cells": [
  {
   "cell_type": "code",
   "execution_count": 15,
   "metadata": {},
   "outputs": [
    {
     "name": "stdout",
     "output_type": "stream",
     "text": [
      "[[1.52]]\n"
     ]
    }
   ],
   "source": [
    "import pandas as pd\n",
    "import numpy as np\n",
    "from sklearn.linear_model import LinearRegression\n",
    "data = pd.read_csv(\"https://video.ittensive.com/python-advanced/data-9753-2019-07-25.utf.csv\", delimiter=\";\")\n",
    "data[\"UDP\"] = 100*data[\"UnemployedDisabled\"]/data[\"UnemployedTotal\"]\n",
    "data_group = data.groupby(\"Year\").filter(lambda x: x[\"UDP\"].count() > 5)\n",
    "data_group = data_group.groupby(\"Year\").mean()\n",
    "x = np.array(data_group.index).reshape(len(data_group.index), 1)\n",
    "y = np.array(data_group[\"UDP\"]).reshape(len(data_group.index), 1)\n",
    "model = LinearRegression()\n",
    "model.fit(x, y)\n",
    "print (np.round(model.predict(np.array(2020).reshape(1, 1)), 2))"
   ]
  }
 ],
 "metadata": {
  "kernelspec": {
   "display_name": "Python 3",
   "language": "python",
   "name": "python3"
  },
  "language_info": {
   "codemirror_mode": {
    "name": "ipython",
    "version": 3
   },
   "file_extension": ".py",
   "mimetype": "text/x-python",
   "name": "python",
   "nbconvert_exporter": "python",
   "pygments_lexer": "ipython3",
   "version": "3.7.5"
  }
 },
 "nbformat": 4,
 "nbformat_minor": 2
}

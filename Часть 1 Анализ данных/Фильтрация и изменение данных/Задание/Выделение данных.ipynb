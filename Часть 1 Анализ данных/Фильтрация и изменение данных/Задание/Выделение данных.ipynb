{
 "cells": [
  {
   "cell_type": "code",
   "execution_count": 6,
   "metadata": {},
   "outputs": [
    {
     "name": "stdout",
     "output_type": "stream",
     "text": [
      "Int64Index([2018], dtype='int64', name='Year')\n"
     ]
    }
   ],
   "source": [
    "import pandas as pd\n",
    "data = pd.read_csv(\"https://video.ittensive.com/python-advanced/data-9753-2019-07-25.utf.csv\", delimiter=\";\")\n",
    "data[\"Sum\"] = data.apply(lambda x: 100*x[6]/x[7], axis=1)\n",
    "data = data[data[\"Sum\"] < 2]\n",
    "data = data.set_index(\"Year\")\n",
    "data = data.sort_index()\n",
    "print (data.index[0:1])"
   ]
  }
 ],
 "metadata": {
  "kernelspec": {
   "display_name": "Python 3",
   "language": "python",
   "name": "python3"
  },
  "language_info": {
   "codemirror_mode": {
    "name": "ipython",
    "version": 3
   },
   "file_extension": ".py",
   "mimetype": "text/x-python",
   "name": "python",
   "nbconvert_exporter": "python",
   "pygments_lexer": "ipython3",
   "version": "3.7.5"
  }
 },
 "nbformat": 4,
 "nbformat_minor": 2
}
